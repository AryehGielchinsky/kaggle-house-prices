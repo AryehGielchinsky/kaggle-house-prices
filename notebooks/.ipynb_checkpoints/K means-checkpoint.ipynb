{
 "cells": [
  {
   "cell_type": "code",
   "execution_count": 1,
   "metadata": {},
   "outputs": [],
   "source": [
    "import numpy as np\n",
    "import pandas as pd\n",
    "import matplotlib.pyplot as plt\n",
    "from pandas.plotting import scatter_matrix\n",
    "from sklearn.linear_model import LogisticRegression\n",
    "from sklearn.preprocessing import StandardScaler\n",
    "from sklearn.preprocessing import Imputer\n",
    "from sklearn.base import BaseEstimator, TransformerMixin\n",
    "from sklearn.pipeline import Pipeline\n",
    "import category_encoders as ce\n",
    "from sklearn.tree import DecisionTreeRegressor as Tree\n",
    "from sklearn.preprocessing import PolynomialFeatures\n",
    "from sklearn.svm import SVC\n",
    "from sklearn.tree import DecisionTreeRegressor\n",
    "from sklearn.tree import export_graphviz\n",
    "from sklearn.metrics import mean_squared_error\n",
    "from sklearn.linear_model import LinearRegression\n",
    "from sklearn.svm import SVR\n",
    "from sklearn.ensemble import RandomForestRegressor\n",
    "from sklearn.cluster import KMeans\n",
    "from sklearn.model_selection import cross_val_score\n",
    "from sklearn.model_selection import cross_val_predict\n",
    "from sklearn.model_selection import cross_validate"
   ]
  },
  {
   "cell_type": "code",
   "execution_count": 2,
   "metadata": {},
   "outputs": [],
   "source": [
    "def create_submission(test_x, test_y, filename):\n",
    "    sub_folder = \"../submissions/\"\n",
    "    submission = pd.DataFrame(test_y, columns=['SalePrice'])\n",
    "    submission['Id'] = test_X['Id'].astype(int).copy()\n",
    "    submission.to_csv(sub_folder + filename, index=False)"
   ]
  },
  {
   "cell_type": "code",
   "execution_count": 3,
   "metadata": {},
   "outputs": [],
   "source": [
    "train = pd.read_csv(\"../data/train.csv\")\n",
    "test_X = pd.read_csv('../data/test.csv')"
   ]
  },
  {
   "cell_type": "code",
   "execution_count": 4,
   "metadata": {},
   "outputs": [],
   "source": [
    "train_Y = train['SalePrice'].copy()\n",
    "train_X = train.drop(['SalePrice'],axis=1).copy()\n",
    "\n",
    "train_X = train.copy()"
   ]
  },
  {
   "cell_type": "code",
   "execution_count": 5,
   "metadata": {},
   "outputs": [],
   "source": [
    "#train_X.columns"
   ]
  },
  {
   "cell_type": "code",
   "execution_count": 6,
   "metadata": {},
   "outputs": [],
   "source": [
    "#plot_thingy = train[['SalePrice', 'MSSubClass', 'LotFrontage', 'LotArea', 'YearBuilt']].copy()\n",
    "#scatter_matrix(plot_thingy, alpha=0.2, figsize=(20, 20), diagonal='kde')"
   ]
  },
  {
   "cell_type": "code",
   "execution_count": 7,
   "metadata": {},
   "outputs": [],
   "source": [
    "class Cleanup(TransformerMixin):\n",
    "    def _init_(self):\n",
    "        pass\n",
    "    def fit(self, X, y=None):\n",
    "        return self    \n",
    "    def transform(self, X, y=None):\n",
    "        Q = X.copy()\n",
    "        Q = Q.select_dtypes(include=[np.number]).copy()\n",
    "        Q = Q.drop(['Id'], axis=1)\n",
    "        return Q"
   ]
  },
  {
   "cell_type": "code",
   "execution_count": 8,
   "metadata": {},
   "outputs": [],
   "source": [
    "class ColSaver(TransformerMixin):\n",
    "    def _init_(self):\n",
    "        self.columns\n",
    "    def fit(self, X, y=None):\n",
    "        self.columns = X.columns\n",
    "        return self\n",
    "    def transform(self, X, y=None):\n",
    "#        print(X.columns)\n",
    "        return X"
   ]
  },
  {
   "cell_type": "code",
   "execution_count": 9,
   "metadata": {},
   "outputs": [],
   "source": [
    "my_pipeline = Pipeline(steps = [\n",
    "    ('Cleanup', Cleanup()),\n",
    "#    ('CatergoricalEncoding', ce.OneHotEncoder()),\n",
    "    ('ColSaver',ColSaver()),\n",
    "    ('imputer', Imputer(strategy='mean')),\n",
    "    ('std_scalar', StandardScaler())\n",
    "#    ('Poly',PolynomialFeatures(degree=4))\n",
    "])"
   ]
  },
  {
   "cell_type": "code",
   "execution_count": 10,
   "metadata": {},
   "outputs": [],
   "source": [
    "train_X_processed = my_pipeline.fit_transform(train_X)"
   ]
  },
  {
   "cell_type": "code",
   "execution_count": null,
   "metadata": {},
   "outputs": [],
   "source": []
  },
  {
   "cell_type": "code",
   "execution_count": null,
   "metadata": {},
   "outputs": [],
   "source": [
    "model_inertia = pd.DataFrame(columns=['SSE from centroids'])\n",
    "for k in range(1,300, 10):\n",
    "    model = KMeans(n_clusters =k).fit(train_X_processed)\n",
    "    model_inertia.loc[k] = model.inertia_\n",
    "\n",
    "plt.figure(figsize=(10, 10))\n",
    "plt.plot(model_inertia, '.')\n",
    "plt.grid()\n",
    "plt.xlabel('K')\n",
    "plt.ylabel('SSE from centriods')"
   ]
  },
  {
   "cell_type": "code",
   "execution_count": null,
   "metadata": {},
   "outputs": [],
   "source": [
    "model_inertia = pd.DataFrame(columns=['SSE from centroids'])\n",
    "for k in range(1,50, 3):\n",
    "    model = KMeans(n_clusters =k).fit(train_X_processed)\n",
    "    model_inertia.loc[k] = model.inertia_\n",
    "\n",
    "plt.figure(figsize=(10, 10))\n",
    "plt.plot(model_inertia, '.')\n",
    "plt.grid()\n",
    "plt.xlabel('K')\n",
    "plt.ylabel('SSE from centriods')"
   ]
  },
  {
   "cell_type": "code",
   "execution_count": null,
   "metadata": {},
   "outputs": [],
   "source": []
  },
  {
   "cell_type": "code",
   "execution_count": 11,
   "metadata": {},
   "outputs": [],
   "source": [
    "#model = KMeans(n_clusters = 20).fit(train_X_processed)\n",
    "#clusters = pd.DataFrame(model.cluster_centers_).transpose()\n",
    "#clusters.set_index(my_pipeline.named_steps['ColSaver'].columns )"
   ]
  },
  {
   "cell_type": "code",
   "execution_count": null,
   "metadata": {},
   "outputs": [],
   "source": [
    "print(\"K must be less than # of samples, so for CV that is {}\".format(len(train_X_processed)*(4/5)))"
   ]
  },
  {
   "cell_type": "code",
   "execution_count": null,
   "metadata": {},
   "outputs": [],
   "source": [
    "scores = []\n",
    "\n",
    "for k in range(1,1200, 100):\n",
    "    print(k)\n",
    "    model = KMeans(n_clusters=k)\n",
    "    q = cross_validate(model, \n",
    "                       train_X_processed,\n",
    "                       np.log1p(train_Y), \n",
    "                       #train_Y, \n",
    "                       cv=5, \n",
    "                       scoring = 'neg_mean_squared_error', \n",
    "                       n_jobs=-1, \n",
    "                       return_train_score=True)    \n",
    "    scores.append([k, np.sqrt(-np.mean(q['train_score'])), np.sqrt(-np.mean(q['test_score']))])\n",
    "\n",
    "scores = pd.DataFrame(scores, columns=['K', 'Train_Score', 'Test_Score'])"
   ]
  },
  {
   "cell_type": "code",
   "execution_count": null,
   "metadata": {},
   "outputs": [],
   "source": [
    "#scores"
   ]
  },
  {
   "cell_type": "code",
   "execution_count": null,
   "metadata": {},
   "outputs": [],
   "source": [
    "plt.figure(figsize=(10, 10))\n",
    "plt.grid()\n",
    "plt.xlabel('K')\n",
    "plt.ylabel('Score')\n",
    "plt.plot(scores['K'], scores['Train_Score'], '.', label = 'Train')\n",
    "plt.plot(scores['K'], scores['Test_Score'], '.', label = 'Test')\n",
    "plt.legend()"
   ]
  },
  {
   "cell_type": "code",
   "execution_count": null,
   "metadata": {},
   "outputs": [],
   "source": []
  },
  {
   "cell_type": "code",
   "execution_count": null,
   "metadata": {},
   "outputs": [],
   "source": []
  },
  {
   "cell_type": "code",
   "execution_count": 110,
   "metadata": {},
   "outputs": [],
   "source": [
    "model = KMeans(n_clusters = 10)"
   ]
  },
  {
   "cell_type": "code",
   "execution_count": 111,
   "metadata": {},
   "outputs": [],
   "source": [
    "x= model.fit_predict(train_X_processed, train_Y)"
   ]
  },
  {
   "cell_type": "code",
   "execution_count": 112,
   "metadata": {},
   "outputs": [
    {
     "data": {
      "text/plain": [
       "[<matplotlib.lines.Line2D at 0x7ff0f9c4da90>]"
      ]
     },
     "execution_count": 112,
     "metadata": {},
     "output_type": "execute_result"
    },
    {
     "data": {
      "image/png": "[encoded data removed]",
      "text/plain": [
       "<matplotlib.figure.Figure at 0x7ff0f9cce358>"
      ]
     },
     "metadata": {},
     "output_type": "display_data"
    }
   ],
   "source": [
    "plt.plot(train_Y.values,x, '.')"
   ]
  },
  {
   "cell_type": "code",
   "execution_count": null,
   "metadata": {},
   "outputs": [],
   "source": []
  },
  {
   "cell_type": "code",
   "execution_count": null,
   "metadata": {},
   "outputs": [],
   "source": []
  },
  {
   "cell_type": "code",
   "execution_count": null,
   "metadata": {},
   "outputs": [],
   "source": []
  },
  {
   "cell_type": "code",
   "execution_count": null,
   "metadata": {},
   "outputs": [],
   "source": []
  },
  {
   "cell_type": "code",
   "execution_count": null,
   "metadata": {},
   "outputs": [],
   "source": [
    "q = np.expm1(x)"
   ]
  },
  {
   "cell_type": "code",
   "execution_count": 40,
   "metadata": {},
   "outputs": [],
   "source": [
    "x = np.expm1(model.fit_predict(train_X_processed, train_Y))"
   ]
  },
  {
   "cell_type": "code",
   "execution_count": 67,
   "metadata": {},
   "outputs": [
    {
     "data": {
      "text/plain": [
       "[<matplotlib.lines.Line2D at 0x7ff0f9d85588>,\n",
       " <matplotlib.lines.Line2D at 0x7ff0f9d85710>,\n",
       " <matplotlib.lines.Line2D at 0x7ff0f9d85860>,\n",
       " <matplotlib.lines.Line2D at 0x7ff0f9d859b0>,\n",
       " <matplotlib.lines.Line2D at 0x7ff0f9d85b00>,\n",
       " <matplotlib.lines.Line2D at 0x7ff0f9d85c50>,\n",
       " <matplotlib.lines.Line2D at 0x7ff0f9d85da0>,\n",
       " <matplotlib.lines.Line2D at 0x7ff0f9d85ef0>,\n",
       " <matplotlib.lines.Line2D at 0x7ff0f9d8e080>,\n",
       " <matplotlib.lines.Line2D at 0x7ff0f9d8e1d0>]"
      ]
     },
     "execution_count": 67,
     "metadata": {},
     "output_type": "execute_result"
    },
    {
     "data": {
      "image/png": "[encoded data removed]",
      "text/plain": [
       "<matplotlib.figure.Figure at 0x7ff0f9e0ce80>"
      ]
     },
     "metadata": {},
     "output_type": "display_data"
    }
   ],
   "source": []
  },
  {
   "cell_type": "code",
   "execution_count": 42,
   "metadata": {},
   "outputs": [
    {
     "data": {
      "text/plain": [
       "0    208500\n",
       "1    181500\n",
       "2    223500\n",
       "3    140000\n",
       "4    250000\n",
       "Name: SalePrice, dtype: int64"
      ]
     },
     "execution_count": 42,
     "metadata": {},
     "output_type": "execute_result"
    }
   ],
   "source": [
    "train_Y.head()"
   ]
  },
  {
   "cell_type": "code",
   "execution_count": 43,
   "metadata": {},
   "outputs": [
    {
     "data": {
      "text/plain": [
       "array([6.3890561 , 1.71828183, 6.3890561 , ..., 6.3890561 , 1.71828183,\n",
       "       1.71828183])"
      ]
     },
     "execution_count": 43,
     "metadata": {},
     "output_type": "execute_result"
    }
   ],
   "source": [
    "x"
   ]
  },
  {
   "cell_type": "code",
   "execution_count": null,
   "metadata": {},
   "outputs": [],
   "source": []
  }
 ],
 "metadata": {
  "kernelspec": {
   "display_name": "Python 3",
   "language": "python",
   "name": "python3"
  },
  "language_info": {
   "codemirror_mode": {
    "name": "ipython",
    "version": 3
   },
   "file_extension": ".py",
   "mimetype": "text/x-python",
   "name": "python",
   "nbconvert_exporter": "python",
   "pygments_lexer": "ipython3",
   "version": "3.6.4"
  },
  "toc": {
   "nav_menu": {},
   "number_sections": true,
   "sideBar": true,
   "skip_h1_title": false,
   "toc_cell": false,
   "toc_position": {},
   "toc_section_display": "block",
   "toc_window_display": false
  }
 },
 "nbformat": 4,
 "nbformat_minor": 2
}
